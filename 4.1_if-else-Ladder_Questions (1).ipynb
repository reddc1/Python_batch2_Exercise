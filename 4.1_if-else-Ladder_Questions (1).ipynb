{
 "cells": [
  {
   "cell_type": "raw",
   "metadata": {},
   "source": [
    "Read Five marks tamil,english,maths,science and social and if all marks are greater than 35 , print pass else print fail"
   ]
  },
  {
   "cell_type": "code",
   "execution_count": 5,
   "metadata": {},
   "outputs": [
    {
     "name": "stdin",
     "output_type": "stream",
     "text": [
      "Enter the marks for Tamil:  43\n",
      "Enter the marks for English:  56\n",
      "Enter the marks for Maths:  67\n",
      "Enter the marks for Science:  84\n",
      "Enter the marks for Social:  43\n"
     ]
    },
    {
     "name": "stdout",
     "output_type": "stream",
     "text": [
      "all subjects pass\n"
     ]
    }
   ],
   "source": [
    "tamil = float(input(\"Enter the marks for Tamil: \"))\n",
    "english = float(input(\"Enter the marks for English: \"))\n",
    "maths = float(input(\"Enter the marks for Maths: \"))\n",
    "science = float(input(\"Enter the marks for Science: \"))\n",
    "social = float(input(\"Enter the marks for Social: \"))\n",
    "\n",
    "if tamil > 35:\n",
    "    if english > 35:\n",
    "        if maths > 35:\n",
    "            if science > 35:\n",
    "                if social > 35:\n",
    "                    print(\"all subjects pass\")\n",
    "                else:\n",
    "                    print(\"fail\")\n",
    "            else:\n",
    "                print(\"fail\")\n",
    "        else:\n",
    "            print(\"fail\")\n",
    "    else:\n",
    "        print(\"fail\")\n",
    "else:\n",
    "    print(\"fail\")\n",
    "\n",
    "\n",
    "\n"
   ]
  },
  {
   "cell_type": "code",
   "execution_count": null,
   "metadata": {},
   "outputs": [],
   "source": []
  },
  {
   "cell_type": "code",
   "execution_count": null,
   "metadata": {},
   "outputs": [],
   "source": []
  }
 ],
 "metadata": {
  "kernelspec": {
   "display_name": "Python 3 (ipykernel)",
   "language": "python",
   "name": "python3"
  },
  "language_info": {
   "codemirror_mode": {
    "name": "ipython",
    "version": 3
   },
   "file_extension": ".py",
   "mimetype": "text/x-python",
   "name": "python",
   "nbconvert_exporter": "python",
   "pygments_lexer": "ipython3",
   "version": "3.13.5"
  }
 },
 "nbformat": 4,
 "nbformat_minor": 4
}
