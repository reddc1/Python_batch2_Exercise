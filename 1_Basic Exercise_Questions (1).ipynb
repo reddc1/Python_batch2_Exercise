{
 "cells": [
  {
   "cell_type": "code",
   "execution_count": 1,
   "metadata": {},
   "outputs": [
    {
     "name": "stdout",
     "output_type": "stream",
     "text": [
      "sachin t-shirt number is 10\n"
     ]
    }
   ],
   "source": [
    "# Sample Question print - sachin t - shirt number is 10\n",
    "name = \"sachin\"\n",
    "t_shirt = 10\n",
    "# Your Answer\n",
    "\n",
    "print(name,\"t-shirt number is\",t_shirt)"
   ]
  },
  {
   "cell_type": "code",
   "execution_count": 12,
   "metadata": {},
   "outputs": [
    {
     "name": "stdout",
     "output_type": "stream",
     "text": [
      "india is number 1 team and has won 2012 worldcup and it rank 1 and the captain name is kholi\n",
      "india is number 1 team and has won 2012  worldcup and it rank 1 and the captain name is kholi\n"
     ]
    }
   ],
   "source": [
    "# 1 . Question | print - India is number 1 team and has won 2012 worldcup and it rank 1 and the captain name is kholi\n",
    "team = \"india\"\n",
    "worldcup = 2012\n",
    "captain = \"kholi\"\n",
    "rank = 1\n",
    "print(team, \"is number 1 team and has won\", worldcup,\"worldcup and it rank\", rank, \"and the captain name is\", captain)\n",
    "\n",
    "\n",
    "team=\"india\"\n",
    "worldcub=2012\n",
    "captain = \"kholi\"\n",
    "rank = 1\n",
    "print(team,\"is number 1 team and has won\", worldcup ,\" worldcup and it rank\", rank, \"and the captain name is\", captain)\n",
    "\n"
   ]
  },
  {
   "cell_type": "code",
   "execution_count": 18,
   "metadata": {},
   "outputs": [
    {
     "name": "stdout",
     "output_type": "stream",
     "text": [
      "<class 'int'>\n",
      "<class 'float'>\n",
      "<class 'str'>\n",
      "The type of x is  <class 'int'>\n",
      "The type of y is  <class 'float'>\n",
      "The type of Z is  <class 'str'>\n"
     ]
    }
   ],
   "source": [
    "# 2 . Question |print the datatype of the x,y,z\n",
    "\n",
    "x = 56\n",
    "y = 56.78\n",
    "z = \"python\"\n",
    "\n",
    "# your Answer\n",
    "\n",
    "print(type(x))\n",
    "print(type(y))\n",
    "print(type(z))\n",
    "\n",
    "print(\"The type of x is \", type(x))\n",
    "print(\"The type of y is \", type(y))\n",
    "print(\"The type of Z is \", type(z))\n",
    "\n"
   ]
  },
  {
   "cell_type": "code",
   "execution_count": 36,
   "metadata": {},
   "outputs": [
    {
     "name": "stdout",
     "output_type": "stream",
     "text": [
      "10.0\n",
      "converting inpput to int 10\n",
      "converting inpput to float 10.0\n",
      "converting inpput to string 10\n",
      "converting inpput to list [10, 'apple', 40, 50, 'red']\n",
      "converting inpput to tuple (10, 'apple', 40, 50, 'red')\n",
      "converting inpput to set {40, 10, 'apple', 50, 'red'}\n",
      "converting inpput to dict {'k1': 10, 'k2': 20, 'k3': 30}\n"
     ]
    }
   ],
   "source": [
    "# 3 . Question | write a program to print 10.0 using typecasting\n",
    "\n",
    "a = 10\n",
    "\n",
    "# Your Answer  # converting one data type to another\n",
    "b=float(a)\n",
    "print(b)\n",
    "\n",
    "print(\"converting inpput to int\", int(a))\n",
    "print(\"converting inpput to float\", float(a))\n",
    "print(\"converting inpput to string\", str(a))\n",
    "a=10,\"apple\",40,50,\"red\"                    # for list,tuple and set will accept as multiple values{TypeError: 'int' object is not iterable}\n",
    "b=30,40,20\n",
    "\n",
    "print(\"converting inpput to list\", list(a))\n",
    "print(\"converting inpput to tuple\", tuple(a))\n",
    "print(\"converting inpput to set\", set(a))\n",
    "\n",
    "a=[(\"k1\",10) ,(\"k2\",20), (\"k3\",30)]   # the value showuld be key value pair, otherwise it fail as value error.\n",
    "print(\"converting inpput to dict\", dict(a))   \n"
   ]
  },
  {
   "cell_type": "code",
   "execution_count": 37,
   "metadata": {},
   "outputs": [
    {
     "name": "stdout",
     "output_type": "stream",
     "text": [
      "<class 'float'>\n"
     ]
    }
   ],
   "source": [
    "# 4 . Question | write a program to print 12 using typecasting\n",
    "\n",
    "a = 12.56\n",
    "\n",
    "# Your Answer\n",
    "print(type(a))\n",
    "\n"
   ]
  },
  {
   "cell_type": "code",
   "execution_count": 45,
   "metadata": {},
   "outputs": [
    {
     "name": "stdout",
     "output_type": "stream",
     "text": [
      "sum of a and b is 1020 and type of sum is <class 'str'>\n",
      "sum of a and b is 30 and type of sum is <class 'int'>\n"
     ]
    }
   ],
   "source": [
    "# 5 . write a program print 30 by using typecasting conncept\n",
    "\n",
    "a = \"10\"\n",
    "b = \"20\"\n",
    "#c=a+b\n",
    "#print(\"sum of a and b is\",c, \"and type of sum is\", type(c))\n",
    "# Your Answer\n",
    "\n",
    "d=int(a)+int(b)\n",
    "print(\"sum of a and b is\",d, \"and type of sum is\", type(d))\n",
    "\n",
    "\n",
    "\n",
    "\n",
    "\n"
   ]
  },
  {
   "cell_type": "code",
   "execution_count": null,
   "metadata": {},
   "outputs": [],
   "source": []
  }
 ],
 "metadata": {
  "kernelspec": {
   "display_name": "Python 3 (ipykernel)",
   "language": "python",
   "name": "python3"
  },
  "language_info": {
   "codemirror_mode": {
    "name": "ipython",
    "version": 3
   },
   "file_extension": ".py",
   "mimetype": "text/x-python",
   "name": "python",
   "nbconvert_exporter": "python",
   "pygments_lexer": "ipython3",
   "version": "3.13.5"
  }
 },
 "nbformat": 4,
 "nbformat_minor": 4
}
