{
 "cells": [
  {
   "cell_type": "code",
   "execution_count": 11,
   "id": "da3ebc97-ae6e-4b61-8d00-39aae80b710a",
   "metadata": {},
   "outputs": [],
   "source": [
    "import pandas as pd\n"
   ]
  },
  {
   "cell_type": "code",
   "execution_count": 12,
   "id": "bb0a0966-2dec-47d9-92c9-ff84e6f2a60f",
   "metadata": {},
   "outputs": [
    {
     "name": "stdout",
     "output_type": "stream",
     "text": [
      "0    10\n",
      "1    20\n",
      "2    30\n",
      "3    40\n",
      "4    50\n",
      "dtype: int64\n"
     ]
    }
   ],
   "source": [
    "data=pd.Series([10,20,30,40,50])\n",
    "print(data)"
   ]
  },
  {
   "cell_type": "code",
   "execution_count": 13,
   "id": "4c071aa7-d782-451a-97fa-f29f90faa420",
   "metadata": {},
   "outputs": [
    {
     "name": "stdout",
     "output_type": "stream",
     "text": [
      "    Name  Age\n",
      "0  Alice   29\n",
      "1    bob   30\n"
     ]
    }
   ],
   "source": [
    "data={\n",
    "    \"Name\":[\"Alice\",\"bob\"],\n",
    "    \"Age\":[29,30]\n",
    "}\n",
    "df=pd.DataFrame(data)\n",
    "print(df)"
   ]
  },
  {
   "cell_type": "code",
   "execution_count": 14,
   "id": "5920df52-0ee5-4e14-8d5b-5c17dda8238e",
   "metadata": {},
   "outputs": [
    {
     "name": "stdout",
     "output_type": "stream",
     "text": [
      "    Unnamed: 0  Project Name                Task Name Assigned to Start Date  \\\n",
      "0          NaN     Marketing          Market Research       Alice 2024-01-01   \n",
      "1          NaN     Marketing         Content Creation         Bob 2024-01-14   \n",
      "2          NaN     Marketing    Social Media Planning     Charlie 2024-01-28   \n",
      "3          NaN     Marketing        Campaign Analysis       Daisy 2024-02-18   \n",
      "4          NaN   Product Dev    Prototype Development       Ethan 2024-01-02   \n",
      "5          NaN   Product Dev        Quality Assurance       Fiona 2024-01-20   \n",
      "6          NaN   Product Dev    User Interface Design     Gabriel 2024-02-04   \n",
      "7          NaN  Customer Svc      Service Improvement      Hannah 2024-02-01   \n",
      "8          NaN  Customer Svc        Ticket Resolution         Ian 2024-02-24   \n",
      "9          NaN  Customer Svc        Customer Feedback       Julia 2024-03-21   \n",
      "10         NaN     Financial          Budget Analysis       Kevin 2024-02-02   \n",
      "11         NaN     Financial      Financial Reporting        Mark 2024-02-13   \n",
      "12         NaN     Financial      Investment Planning        Mark 2024-03-19   \n",
      "13         NaN      Research   Market Trends Analysis      Nathan 2024-01-02   \n",
      "14         NaN      Research          Data Collection      Olivia 2024-01-26   \n",
      "15         NaN      Research   Research Paper Writing       Peter 2024-02-28   \n",
      "16         NaN   Development     Software Development       Quinn 2024-01-02   \n",
      "17         NaN   Development      Feature Enhancement      Rachel 2024-02-08   \n",
      "18         NaN   Development              Code Review         Sam 2024-03-14   \n",
      "19         NaN    Production            Manufacturing         Tim 2024-01-03   \n",
      "20         NaN    Production          Quality Control      Ursula 2024-02-17   \n",
      "21         NaN    Production         Packaging Design      Victor 2024-03-14   \n",
      "22         NaN         Sales          Lead Generation       Wendy 2024-01-03   \n",
      "23         NaN         Sales          Client Meetings      Xavier 2024-01-06   \n",
      "24         NaN         Sales     Contract Negotiation      Yvette 2024-02-03   \n",
      "25         NaN       Support        Technical Support         Zoe 2024-01-01   \n",
      "26         NaN       Support                Bug Fixes       Aaron 2024-01-27   \n",
      "27         NaN       Support         Software Updates       Bella 2024-03-02   \n",
      "28         NaN    Operations     Process Optimization      Calvin 2024-01-03   \n",
      "29         NaN    Operations     Inventory Management       Diane 2024-02-03   \n",
      "30         NaN    Operations     Facility Maintenance      Edward 2024-02-29   \n",
      "31         NaN    Consulting       Strategic Planning       Fiona 2024-01-02   \n",
      "32         NaN    Consulting         Market Expansion        Gary 2024-02-02   \n",
      "33         NaN    Consulting          Client Advisory       Helen 2024-03-06   \n",
      "34         NaN      Training        Employee Training       Isaac 2024-01-04   \n",
      "35         NaN      Training   Certification Programs        Jane 2024-01-28   \n",
      "36         NaN      Training        Skill Development        Kyle 2024-02-28   \n",
      "37         NaN        Events           Event Planning       Laura 2024-01-03   \n",
      "38         NaN        Events    Conference Management        Mike 2024-02-03   \n",
      "39         NaN        Events  Sponsorship Coordinatio     n Nancy 2024-02-24   \n",
      "40         NaN     Logistics  Supply Chain Management       Oscar 2024-01-03   \n",
      "41         NaN     Logistics  Transportation Planning    Patricia 2024-01-29   \n",
      "42         NaN     Logistics   Inventory Optimization     Quentin 2024-03-29   \n",
      "43         NaN   Engineering           Product Design      Rachel 2024-01-02   \n",
      "44         NaN   Engineering       System Integration         Sam 2024-02-02   \n",
      "45         NaN   Engineering        Prototype Testing         Tom 2024-02-23   \n",
      "\n",
      "    Days Required   End Date  Progress  \n",
      "0              13 2024-01-14      0.78  \n",
      "1              14 2024-01-28      1.00  \n",
      "2              22 2024-02-19      0.45  \n",
      "3              25 2024-03-14      0.00  \n",
      "4              18 2024-01-20      1.00  \n",
      "5              10 2024-01-30      0.78  \n",
      "6              25 2024-02-29      0.00  \n",
      "7              22 2024-02-23      1.00  \n",
      "8              25 2024-03-20      1.00  \n",
      "9              30 2024-04-20      0.00  \n",
      "10             22 2024-02-24      0.10  \n",
      "11             21 2024-02-09      0.78  \n",
      "12             25 2024-04-13      1.00  \n",
      "13             23 2024-01-25      0.50  \n",
      "14             32 2024-02-27      0.00  \n",
      "15             27 2024-03-26      0.00  \n",
      "16             36 2024-02-07      1.00  \n",
      "17             34 2024-03-13      0.00  \n",
      "18             30 2024-04-13      0.00  \n",
      "19             47 2024-02-19      0.30  \n",
      "20             27 2024-03-15      0.00  \n",
      "21             22 2024-04-05      0.00  \n",
      "22             60 2024-03-03      0.70  \n",
      "23             20 2024-01-26      0.78  \n",
      "24             35 2024-03-09      0.00  \n",
      "25             25 2024-01-26      1.00  \n",
      "26             31 2024-02-27      1.00  \n",
      "27             22 2024-03-24      0.00  \n",
      "28             30 2024-02-02      0.40  \n",
      "29             25 2024-02-28      0.00  \n",
      "30             20 2024-03-20      0.00  \n",
      "31             35 2024-02-06      0.60  \n",
      "32             32 2024-03-05      0.00  \n",
      "33             25 2024-03-31      0.00  \n",
      "34             27 2024-01-31      0.80  \n",
      "35             30 2024-02-27      0.00  \n",
      "36             22 2024-03-21      0.00  \n",
      "37             25 2024-01-28      0.30  \n",
      "38             20 2024-02-23      0.00  \n",
      "39             35 2024-03-30      0.00  \n",
      "40             25 2024-01-28      0.50  \n",
      "41             30 2024-02-28      1.00  \n",
      "42             20 2024-04-18      0.00  \n",
      "43             25 2024-01-27      0.20  \n",
      "44             22 2024-02-24      0.00  \n",
      "45             27 2024-03-21      0.00  \n"
     ]
    }
   ],
   "source": [
    "df1=pd.read_excel(\"C:\\\\Users\\\\reddc\\\\Music\\\\Python_midteck\\\\download_python_files\\\\Project-Management-Sample-Data.xlsx\")\n",
    "print(df1)"
   ]
  },
  {
   "cell_type": "code",
   "execution_count": 15,
   "id": "1df9a38a-644a-460a-a8ee-864a51496601",
   "metadata": {},
   "outputs": [
    {
     "name": "stdout",
     "output_type": "stream",
     "text": [
      "   Unnamed: 0 Project Name              Task Name Assigned to Start Date  \\\n",
      "0         NaN    Marketing        Market Research       Alice 2024-01-01   \n",
      "1         NaN    Marketing       Content Creation         Bob 2024-01-14   \n",
      "2         NaN    Marketing  Social Media Planning     Charlie 2024-01-28   \n",
      "3         NaN    Marketing      Campaign Analysis       Daisy 2024-02-18   \n",
      "4         NaN  Product Dev  Prototype Development       Ethan 2024-01-02   \n",
      "\n",
      "   Days Required   End Date  Progress  \n",
      "0             13 2024-01-14      0.78  \n",
      "1             14 2024-01-28      1.00  \n",
      "2             22 2024-02-19      0.45  \n",
      "3             25 2024-03-14      0.00  \n",
      "4             18 2024-01-20      1.00  \n"
     ]
    }
   ],
   "source": [
    "print(df1.head())"
   ]
  },
  {
   "cell_type": "code",
   "execution_count": 16,
   "id": "3403f32f-352e-475a-a723-36040832fe58",
   "metadata": {},
   "outputs": [
    {
     "name": "stdout",
     "output_type": "stream",
     "text": [
      "    Unnamed: 0 Project Name                Task Name Assigned to Start Date  \\\n",
      "41         NaN    Logistics  Transportation Planning    Patricia 2024-01-29   \n",
      "42         NaN    Logistics   Inventory Optimization     Quentin 2024-03-29   \n",
      "43         NaN  Engineering           Product Design      Rachel 2024-01-02   \n",
      "44         NaN  Engineering       System Integration         Sam 2024-02-02   \n",
      "45         NaN  Engineering        Prototype Testing         Tom 2024-02-23   \n",
      "\n",
      "    Days Required   End Date  Progress  \n",
      "41             30 2024-02-28       1.0  \n",
      "42             20 2024-04-18       0.0  \n",
      "43             25 2024-01-27       0.2  \n",
      "44             22 2024-02-24       0.0  \n",
      "45             27 2024-03-21       0.0  \n"
     ]
    }
   ],
   "source": [
    "print(df1.tail())"
   ]
  },
  {
   "cell_type": "code",
   "execution_count": 19,
   "id": "3351a6e1-4770-4de6-9c3d-d678d5e3bb1e",
   "metadata": {},
   "outputs": [
    {
     "name": "stdout",
     "output_type": "stream",
     "text": [
      "0        Marketing\n",
      "1        Marketing\n",
      "2        Marketing\n",
      "3        Marketing\n",
      "4      Product Dev\n",
      "5      Product Dev\n",
      "6      Product Dev\n",
      "7     Customer Svc\n",
      "8     Customer Svc\n",
      "9     Customer Svc\n",
      "10       Financial\n",
      "11       Financial\n",
      "12       Financial\n",
      "13        Research\n",
      "14        Research\n",
      "15        Research\n",
      "16     Development\n",
      "17     Development\n",
      "18     Development\n",
      "19      Production\n",
      "20      Production\n",
      "21      Production\n",
      "22           Sales\n",
      "23           Sales\n",
      "24           Sales\n",
      "25         Support\n",
      "26         Support\n",
      "27         Support\n",
      "28      Operations\n",
      "29      Operations\n",
      "30      Operations\n",
      "31      Consulting\n",
      "32      Consulting\n",
      "33      Consulting\n",
      "34        Training\n",
      "35        Training\n",
      "36        Training\n",
      "37          Events\n",
      "38          Events\n",
      "39          Events\n",
      "40       Logistics\n",
      "41       Logistics\n",
      "42       Logistics\n",
      "43     Engineering\n",
      "44     Engineering\n",
      "45     Engineering\n",
      "Name: Project Name, dtype: object\n"
     ]
    }
   ],
   "source": [
    "print(df1[\"Project Name\"])"
   ]
  },
  {
   "cell_type": "code",
   "execution_count": 20,
   "id": "37e00cad-7de6-4eb6-a655-95538b437734",
   "metadata": {},
   "outputs": [
    {
     "name": "stdout",
     "output_type": "stream",
     "text": [
      "    Unnamed: 0  Project Name                Task Name Assigned to Start Date  \\\n",
      "2          NaN     Marketing    Social Media Planning     Charlie 2024-01-28   \n",
      "3          NaN     Marketing        Campaign Analysis       Daisy 2024-02-18   \n",
      "6          NaN   Product Dev    User Interface Design     Gabriel 2024-02-04   \n",
      "7          NaN  Customer Svc      Service Improvement      Hannah 2024-02-01   \n",
      "8          NaN  Customer Svc        Ticket Resolution         Ian 2024-02-24   \n",
      "9          NaN  Customer Svc        Customer Feedback       Julia 2024-03-21   \n",
      "10         NaN     Financial          Budget Analysis       Kevin 2024-02-02   \n",
      "11         NaN     Financial      Financial Reporting        Mark 2024-02-13   \n",
      "12         NaN     Financial      Investment Planning        Mark 2024-03-19   \n",
      "13         NaN      Research   Market Trends Analysis      Nathan 2024-01-02   \n",
      "14         NaN      Research          Data Collection      Olivia 2024-01-26   \n",
      "15         NaN      Research   Research Paper Writing       Peter 2024-02-28   \n",
      "16         NaN   Development     Software Development       Quinn 2024-01-02   \n",
      "17         NaN   Development      Feature Enhancement      Rachel 2024-02-08   \n",
      "18         NaN   Development              Code Review         Sam 2024-03-14   \n",
      "19         NaN    Production            Manufacturing         Tim 2024-01-03   \n",
      "20         NaN    Production          Quality Control      Ursula 2024-02-17   \n",
      "21         NaN    Production         Packaging Design      Victor 2024-03-14   \n",
      "22         NaN         Sales          Lead Generation       Wendy 2024-01-03   \n",
      "24         NaN         Sales     Contract Negotiation      Yvette 2024-02-03   \n",
      "25         NaN       Support        Technical Support         Zoe 2024-01-01   \n",
      "26         NaN       Support                Bug Fixes       Aaron 2024-01-27   \n",
      "27         NaN       Support         Software Updates       Bella 2024-03-02   \n",
      "28         NaN    Operations     Process Optimization      Calvin 2024-01-03   \n",
      "29         NaN    Operations     Inventory Management       Diane 2024-02-03   \n",
      "31         NaN    Consulting       Strategic Planning       Fiona 2024-01-02   \n",
      "32         NaN    Consulting         Market Expansion        Gary 2024-02-02   \n",
      "33         NaN    Consulting          Client Advisory       Helen 2024-03-06   \n",
      "34         NaN      Training        Employee Training       Isaac 2024-01-04   \n",
      "35         NaN      Training   Certification Programs        Jane 2024-01-28   \n",
      "36         NaN      Training        Skill Development        Kyle 2024-02-28   \n",
      "37         NaN        Events           Event Planning       Laura 2024-01-03   \n",
      "39         NaN        Events  Sponsorship Coordinatio     n Nancy 2024-02-24   \n",
      "40         NaN     Logistics  Supply Chain Management       Oscar 2024-01-03   \n",
      "41         NaN     Logistics  Transportation Planning    Patricia 2024-01-29   \n",
      "43         NaN   Engineering           Product Design      Rachel 2024-01-02   \n",
      "44         NaN   Engineering       System Integration         Sam 2024-02-02   \n",
      "45         NaN   Engineering        Prototype Testing         Tom 2024-02-23   \n",
      "\n",
      "    Days Required   End Date  Progress  \n",
      "2              22 2024-02-19      0.45  \n",
      "3              25 2024-03-14      0.00  \n",
      "6              25 2024-02-29      0.00  \n",
      "7              22 2024-02-23      1.00  \n",
      "8              25 2024-03-20      1.00  \n",
      "9              30 2024-04-20      0.00  \n",
      "10             22 2024-02-24      0.10  \n",
      "11             21 2024-02-09      0.78  \n",
      "12             25 2024-04-13      1.00  \n",
      "13             23 2024-01-25      0.50  \n",
      "14             32 2024-02-27      0.00  \n",
      "15             27 2024-03-26      0.00  \n",
      "16             36 2024-02-07      1.00  \n",
      "17             34 2024-03-13      0.00  \n",
      "18             30 2024-04-13      0.00  \n",
      "19             47 2024-02-19      0.30  \n",
      "20             27 2024-03-15      0.00  \n",
      "21             22 2024-04-05      0.00  \n",
      "22             60 2024-03-03      0.70  \n",
      "24             35 2024-03-09      0.00  \n",
      "25             25 2024-01-26      1.00  \n",
      "26             31 2024-02-27      1.00  \n",
      "27             22 2024-03-24      0.00  \n",
      "28             30 2024-02-02      0.40  \n",
      "29             25 2024-02-28      0.00  \n",
      "31             35 2024-02-06      0.60  \n",
      "32             32 2024-03-05      0.00  \n",
      "33             25 2024-03-31      0.00  \n",
      "34             27 2024-01-31      0.80  \n",
      "35             30 2024-02-27      0.00  \n",
      "36             22 2024-03-21      0.00  \n",
      "37             25 2024-01-28      0.30  \n",
      "39             35 2024-03-30      0.00  \n",
      "40             25 2024-01-28      0.50  \n",
      "41             30 2024-02-28      1.00  \n",
      "43             25 2024-01-27      0.20  \n",
      "44             22 2024-02-24      0.00  \n",
      "45             27 2024-03-21      0.00  \n"
     ]
    }
   ],
   "source": [
    "print(df1[df1[\"Days Required\"]>20])"
   ]
  },
  {
   "cell_type": "code",
   "execution_count": 22,
   "id": "de48df66-b23c-4fee-8abe-8e4b1a9ddc60",
   "metadata": {},
   "outputs": [
    {
     "name": "stdout",
     "output_type": "stream",
     "text": [
      "    Unnamed: 0  Project Name                Task Name Assigned to Start Date  \\\n",
      "5          NaN   Product Dev        Quality Assurance       Fiona 2024-01-20   \n",
      "0          NaN     Marketing          Market Research       Alice 2024-01-01   \n",
      "1          NaN     Marketing         Content Creation         Bob 2024-01-14   \n",
      "4          NaN   Product Dev    Prototype Development       Ethan 2024-01-02   \n",
      "30         NaN    Operations     Facility Maintenance      Edward 2024-02-29   \n",
      "23         NaN         Sales          Client Meetings      Xavier 2024-01-06   \n",
      "42         NaN     Logistics   Inventory Optimization     Quentin 2024-03-29   \n",
      "38         NaN        Events    Conference Management        Mike 2024-02-03   \n",
      "11         NaN     Financial      Financial Reporting        Mark 2024-02-13   \n",
      "27         NaN       Support         Software Updates       Bella 2024-03-02   \n",
      "21         NaN    Production         Packaging Design      Victor 2024-03-14   \n",
      "2          NaN     Marketing    Social Media Planning     Charlie 2024-01-28   \n",
      "36         NaN      Training        Skill Development        Kyle 2024-02-28   \n",
      "44         NaN   Engineering       System Integration         Sam 2024-02-02   \n",
      "10         NaN     Financial          Budget Analysis       Kevin 2024-02-02   \n",
      "7          NaN  Customer Svc      Service Improvement      Hannah 2024-02-01   \n",
      "13         NaN      Research   Market Trends Analysis      Nathan 2024-01-02   \n",
      "29         NaN    Operations     Inventory Management       Diane 2024-02-03   \n",
      "12         NaN     Financial      Investment Planning        Mark 2024-03-19   \n",
      "40         NaN     Logistics  Supply Chain Management       Oscar 2024-01-03   \n",
      "25         NaN       Support        Technical Support         Zoe 2024-01-01   \n",
      "3          NaN     Marketing        Campaign Analysis       Daisy 2024-02-18   \n",
      "6          NaN   Product Dev    User Interface Design     Gabriel 2024-02-04   \n",
      "8          NaN  Customer Svc        Ticket Resolution         Ian 2024-02-24   \n",
      "37         NaN        Events           Event Planning       Laura 2024-01-03   \n",
      "33         NaN    Consulting          Client Advisory       Helen 2024-03-06   \n",
      "43         NaN   Engineering           Product Design      Rachel 2024-01-02   \n",
      "15         NaN      Research   Research Paper Writing       Peter 2024-02-28   \n",
      "20         NaN    Production          Quality Control      Ursula 2024-02-17   \n",
      "45         NaN   Engineering        Prototype Testing         Tom 2024-02-23   \n",
      "34         NaN      Training        Employee Training       Isaac 2024-01-04   \n",
      "9          NaN  Customer Svc        Customer Feedback       Julia 2024-03-21   \n",
      "18         NaN   Development              Code Review         Sam 2024-03-14   \n",
      "28         NaN    Operations     Process Optimization      Calvin 2024-01-03   \n",
      "35         NaN      Training   Certification Programs        Jane 2024-01-28   \n",
      "41         NaN     Logistics  Transportation Planning    Patricia 2024-01-29   \n",
      "26         NaN       Support                Bug Fixes       Aaron 2024-01-27   \n",
      "32         NaN    Consulting         Market Expansion        Gary 2024-02-02   \n",
      "14         NaN      Research          Data Collection      Olivia 2024-01-26   \n",
      "17         NaN   Development      Feature Enhancement      Rachel 2024-02-08   \n",
      "24         NaN         Sales     Contract Negotiation      Yvette 2024-02-03   \n",
      "39         NaN        Events  Sponsorship Coordinatio     n Nancy 2024-02-24   \n",
      "31         NaN    Consulting       Strategic Planning       Fiona 2024-01-02   \n",
      "16         NaN   Development     Software Development       Quinn 2024-01-02   \n",
      "19         NaN    Production            Manufacturing         Tim 2024-01-03   \n",
      "22         NaN         Sales          Lead Generation       Wendy 2024-01-03   \n",
      "\n",
      "    Days Required   End Date  Progress  \n",
      "5              10 2024-01-30      0.78  \n",
      "0              13 2024-01-14      0.78  \n",
      "1              14 2024-01-28      1.00  \n",
      "4              18 2024-01-20      1.00  \n",
      "30             20 2024-03-20      0.00  \n",
      "23             20 2024-01-26      0.78  \n",
      "42             20 2024-04-18      0.00  \n",
      "38             20 2024-02-23      0.00  \n",
      "11             21 2024-02-09      0.78  \n",
      "27             22 2024-03-24      0.00  \n",
      "21             22 2024-04-05      0.00  \n",
      "2              22 2024-02-19      0.45  \n",
      "36             22 2024-03-21      0.00  \n",
      "44             22 2024-02-24      0.00  \n",
      "10             22 2024-02-24      0.10  \n",
      "7              22 2024-02-23      1.00  \n",
      "13             23 2024-01-25      0.50  \n",
      "29             25 2024-02-28      0.00  \n",
      "12             25 2024-04-13      1.00  \n",
      "40             25 2024-01-28      0.50  \n",
      "25             25 2024-01-26      1.00  \n",
      "3              25 2024-03-14      0.00  \n",
      "6              25 2024-02-29      0.00  \n",
      "8              25 2024-03-20      1.00  \n",
      "37             25 2024-01-28      0.30  \n",
      "33             25 2024-03-31      0.00  \n",
      "43             25 2024-01-27      0.20  \n",
      "15             27 2024-03-26      0.00  \n",
      "20             27 2024-03-15      0.00  \n",
      "45             27 2024-03-21      0.00  \n",
      "34             27 2024-01-31      0.80  \n",
      "9              30 2024-04-20      0.00  \n",
      "18             30 2024-04-13      0.00  \n",
      "28             30 2024-02-02      0.40  \n",
      "35             30 2024-02-27      0.00  \n",
      "41             30 2024-02-28      1.00  \n",
      "26             31 2024-02-27      1.00  \n",
      "32             32 2024-03-05      0.00  \n",
      "14             32 2024-02-27      0.00  \n",
      "17             34 2024-03-13      0.00  \n",
      "24             35 2024-03-09      0.00  \n",
      "39             35 2024-03-30      0.00  \n",
      "31             35 2024-02-06      0.60  \n",
      "16             36 2024-02-07      1.00  \n",
      "19             47 2024-02-19      0.30  \n",
      "22             60 2024-03-03      0.70  \n"
     ]
    }
   ],
   "source": [
    "print(df1.sort_values(\"Days Required\"))"
   ]
  },
  {
   "cell_type": "code",
   "execution_count": null,
   "id": "075bc0fb-24cd-48a0-b995-cbf9e38dbea8",
   "metadata": {},
   "outputs": [],
   "source": [
    "numpy- numerical python\n"
   ]
  },
  {
   "cell_type": "code",
   "execution_count": 24,
   "id": "510f9ebb-2718-4378-86ee-45200ba83503",
   "metadata": {},
   "outputs": [
    {
     "name": "stdout",
     "output_type": "stream",
     "text": [
      "Requirement already satisfied: numpy in c:\\users\\reddc\\onedrive - netapp inc\\pictures\\python\\lib\\site-packages (2.1.3)\n",
      "Note: you may need to restart the kernel to use updated packages.\n"
     ]
    }
   ],
   "source": [
    "pip install numpy"
   ]
  },
  {
   "cell_type": "code",
   "execution_count": 25,
   "id": "04835b4a-51be-4334-8a3e-9073568d4224",
   "metadata": {},
   "outputs": [],
   "source": [
    "import numpy as np"
   ]
  },
  {
   "cell_type": "code",
   "execution_count": 26,
   "id": "f2d07d33-34b8-4cf1-a296-fbfc4c3ddcff",
   "metadata": {},
   "outputs": [
    {
     "name": "stdout",
     "output_type": "stream",
     "text": [
      "[ 5  7  9 11 13]\n",
      "[-3 -3 -3 -3 -3]\n",
      "[ 4 10 18 28 40]\n"
     ]
    }
   ],
   "source": [
    "a=np.array([1,2,3,4,5])\n",
    "b=np.array([4,5,6,7,8])\n",
    "print(a+b)\n",
    "print(a-b)\n",
    "print(a*b)"
   ]
  },
  {
   "cell_type": "code",
   "execution_count": 28,
   "id": "3a9bcd2c-6b63-46f7-9f0e-ec2459e0aac3",
   "metadata": {},
   "outputs": [
    {
     "name": "stdout",
     "output_type": "stream",
     "text": [
      "(2, 2)\n"
     ]
    }
   ],
   "source": [
    "matrix = np.array([[1,2],[3,4]])\n",
    "print(matrix.shape)"
   ]
  },
  {
   "cell_type": "code",
   "execution_count": 30,
   "id": "f561539c-22ac-4490-a4f1-4bc6913f8dbe",
   "metadata": {},
   "outputs": [
    {
     "name": "stdout",
     "output_type": "stream",
     "text": [
      "[0.41804925 0.54834785 0.90907224]\n"
     ]
    }
   ],
   "source": [
    "print(np.random.rand(3))"
   ]
  },
  {
   "cell_type": "code",
   "execution_count": 32,
   "id": "cf33d976-2000-42d0-bb81-037b4d066e0c",
   "metadata": {},
   "outputs": [
    {
     "name": "stdout",
     "output_type": "stream",
     "text": [
      "3.0\n"
     ]
    }
   ],
   "source": [
    "print(np.mean(a))"
   ]
  },
  {
   "cell_type": "markdown",
   "id": "e9abb5bc-7ed1-483e-896f-98ede7f95373",
   "metadata": {},
   "source": [
    "matplotlib is a powerful plotting library in Python that is widely used for creating a variety of static, animated, and interactive visualizations. It is particularly useful for:"
   ]
  },
  {
   "cell_type": "markdown",
   "id": "7fa31555-a429-4990-b1e9-dc57d3afd51f",
   "metadata": {},
   "source": [
    "Exploratory Data Analysis (EDA): Visualizing data to understand its structure, detect patterns, and identify outliers.\n",
    "Data Presentation: Creating clear and informative charts and graphs to present data insights effectively."
   ]
  },
  {
   "cell_type": "code",
   "execution_count": 33,
   "id": "9ade07cd-ca6b-4040-8fef-54545cf8ee93",
   "metadata": {},
   "outputs": [
    {
     "name": "stdout",
     "output_type": "stream",
     "text": [
      "Requirement already satisfied: matplotlib in c:\\users\\reddc\\onedrive - netapp inc\\pictures\\python\\lib\\site-packages (3.10.0)\n",
      "Requirement already satisfied: contourpy>=1.0.1 in c:\\users\\reddc\\onedrive - netapp inc\\pictures\\python\\lib\\site-packages (from matplotlib) (1.3.1)\n",
      "Requirement already satisfied: cycler>=0.10 in c:\\users\\reddc\\onedrive - netapp inc\\pictures\\python\\lib\\site-packages (from matplotlib) (0.11.0)\n",
      "Requirement already satisfied: fonttools>=4.22.0 in c:\\users\\reddc\\onedrive - netapp inc\\pictures\\python\\lib\\site-packages (from matplotlib) (4.55.3)\n",
      "Requirement already satisfied: kiwisolver>=1.3.1 in c:\\users\\reddc\\onedrive - netapp inc\\pictures\\python\\lib\\site-packages (from matplotlib) (1.4.8)\n",
      "Requirement already satisfied: numpy>=1.23 in c:\\users\\reddc\\onedrive - netapp inc\\pictures\\python\\lib\\site-packages (from matplotlib) (2.1.3)\n",
      "Requirement already satisfied: packaging>=20.0 in c:\\users\\reddc\\onedrive - netapp inc\\pictures\\python\\lib\\site-packages (from matplotlib) (24.2)\n",
      "Requirement already satisfied: pillow>=8 in c:\\users\\reddc\\onedrive - netapp inc\\pictures\\python\\lib\\site-packages (from matplotlib) (11.1.0)\n",
      "Requirement already satisfied: pyparsing>=2.3.1 in c:\\users\\reddc\\onedrive - netapp inc\\pictures\\python\\lib\\site-packages (from matplotlib) (3.2.0)\n",
      "Requirement already satisfied: python-dateutil>=2.7 in c:\\users\\reddc\\onedrive - netapp inc\\pictures\\python\\lib\\site-packages (from matplotlib) (2.9.0.post0)\n",
      "Requirement already satisfied: six>=1.5 in c:\\users\\reddc\\onedrive - netapp inc\\pictures\\python\\lib\\site-packages (from python-dateutil>=2.7->matplotlib) (1.17.0)\n",
      "Note: you may need to restart the kernel to use updated packages.\n"
     ]
    }
   ],
   "source": [
    "pip install matplotlib"
   ]
  },
  {
   "cell_type": "code",
   "execution_count": 34,
   "id": "2c69aea4-1373-44bf-a943-892073dbb654",
   "metadata": {},
   "outputs": [],
   "source": [
    "import matplotlib.pyplot as plt"
   ]
  },
  {
   "cell_type": "markdown",
   "id": "c7e52c36-b940-4092-9755-d0627f0c84ef",
   "metadata": {},
   "source": [
    "import matplotlib.pyplot as plt"
   ]
  },
  {
   "cell_type": "code",
   "execution_count": 37,
   "id": "0d1357a9-3d7c-4884-98c8-40f68dd63cc5",
   "metadata": {},
   "outputs": [
    {
     "data": {
      "image/png": "[encoded data removed]",
      "text/plain": [
       "<Figure size 640x480 with 1 Axes>"
      ]
     },
     "metadata": {},
     "output_type": "display_data"
    }
   ],
   "source": [
    "plt.plot([1,6,2,4],[\"apple\",\"banana\",\"che\",\"ban\"])\n",
    "plt.title(\"line chart\")\n",
    "plt.xlabel(\"X-A\")\n",
    "plt.ylabel(\"Y-A\")\n",
    "plt.show()"
   ]
  },
  {
   "cell_type": "code",
   "execution_count": 41,
   "id": "fa6e0ce6-5623-4085-b863-813a412b70e5",
   "metadata": {},
   "outputs": [
    {
     "data": {
      "image/png": "[encoded data removed]",
      "text/plain": [
       "<Figure size 640x480 with 1 Axes>"
      ]
     },
     "metadata": {},
     "output_type": "display_data"
    }
   ],
   "source": [
    "scores=[1,6,2,4]\n",
    "Names=[\"apple\",\"banana\",\"che\",\"ban\"]\n",
    "plt.title(\"Scores\")\n",
    "#plt.xlabel(\"X-A\")\n",
    "#plt.ylabel(\"Y-A\")\n",
    "plt.bar(Names,scores)\n",
    "plt.show()"
   ]
  },
  {
   "cell_type": "code",
   "execution_count": 42,
   "id": "c9f6ef51-3d2c-4c01-848b-bb6398538c3f",
   "metadata": {},
   "outputs": [
    {
     "data": {
      "image/png": "[encoded data removed]",
      "text/plain": [
       "<Figure size 640x480 with 1 Axes>"
      ]
     },
     "metadata": {},
     "output_type": "display_data"
    }
   ],
   "source": [
    "data=np.random.randn(1000)\n",
    "plt.hist(data,bins=30)\n",
    "plt.title(\"histogram chart\")\n",
    "plt.show()"
   ]
  },
  {
   "cell_type": "code",
   "execution_count": 48,
   "id": "1ccefa91-cd37-4d13-8349-b6a399c8fe55",
   "metadata": {},
   "outputs": [
    {
     "data": {
      "image/png": "[encoded data removed]",
      "text/plain": [
       "<Figure size 640x480 with 1 Axes>"
      ]
     },
     "metadata": {},
     "output_type": "display_data"
    }
   ],
   "source": [
    "labels=[\"B\",\"D\",\"F\"]\n",
    "sizes=[30,50,70]\n",
    "plt.pie(sizes,labels=labels,autopct=\"%1.1f%%\")\n",
    "plt.title(\"piechart\")\n",
    "plt.show()"
   ]
  },
  {
   "cell_type": "code",
   "execution_count": null,
   "id": "d6cee0fa-6dd2-4145-bbb6-1a084406fd8a",
   "metadata": {},
   "outputs": [],
   "source": []
  },
  {
   "cell_type": "code",
   "execution_count": null,
   "id": "16718138-a7e4-4b87-87cc-298f7be893d7",
   "metadata": {},
   "outputs": [],
   "source": []
  }
 ],
 "metadata": {
  "kernelspec": {
   "display_name": "Python 3 (ipykernel)",
   "language": "python",
   "name": "python3"
  },
  "language_info": {
   "codemirror_mode": {
    "name": "ipython",
    "version": 3
   },
   "file_extension": ".py",
   "mimetype": "text/x-python",
   "name": "python",
   "nbconvert_exporter": "python",
   "pygments_lexer": "ipython3",
   "version": "3.13.5"
  }
 },
 "nbformat": 4,
 "nbformat_minor": 5
}
