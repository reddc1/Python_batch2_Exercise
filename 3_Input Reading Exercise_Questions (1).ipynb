{
 "cells": [
  {
   "cell_type": "code",
   "execution_count": 9,
   "metadata": {},
   "outputs": [
    {
     "name": "stdin",
     "output_type": "stream",
     "text": [
      "enter the numbers of hours 1.2\n"
     ]
    },
    {
     "name": "stdout",
     "output_type": "stream",
     "text": [
      "number of hours is 1.2 and hours to minutes is  72.0\n"
     ]
    },
    {
     "name": "stdin",
     "output_type": "stream",
     "text": [
      "enter the number of hours:  1.2\n"
     ]
    },
    {
     "name": "stdout",
     "output_type": "stream",
     "text": [
      " 1.2 is qual to minutes of 72.0 \n"
     ]
    }
   ],
   "source": [
    "# Write a program to hours to minutes , user should able to give hours as input\n",
    "\n",
    "# your Answer\n",
    "hours=float(input(\"enter the numbers of hours\"))\n",
    "minutes= hours*60\n",
    "print(\"number of hours is\", hours, \"and hours to minutes is \",minutes )\n",
    "\n",
    "#Method -2 \n",
    "def hours_to_minutes(hours):\n",
    "    return(hours * 60)\n",
    "\n",
    "hours=float(input(\"enter the number of hours: \"))\n",
    "minutes= hours_to_minutes(hours)\n",
    "print(f\" {hours} is qual to minutes of {minutes} \")\n",
    "\n"
   ]
  },
  {
   "cell_type": "code",
   "execution_count": 22,
   "metadata": {},
   "outputs": [
    {
     "name": "stdin",
     "output_type": "stream",
     "text": [
      "Enter centimeters to convert meter: 250\n"
     ]
    },
    {
     "name": "stdout",
     "output_type": "stream",
     "text": [
      "250.0 is eual to the meter of 2.5\n"
     ]
    }
   ],
   "source": [
    "# Write a program to convert centimeter to meter , user shoulb be able to give centimeter as input\n",
    "\n",
    "# your Answer\n",
    "\n",
    "centimeter=float(input(\"Enter centimeters to convert meter:\"))\n",
    "#meters=centimeter/100\n",
    "result= f\"{centimeter} is eual to the meter of {centimeter/100}\"\n",
    "#print(f\"{centimeter} is equal to the meter of {meters}\")\n",
    "print(result)\n",
    "\n"
   ]
  },
  {
   "cell_type": "code",
   "execution_count": 29,
   "metadata": {},
   "outputs": [
    {
     "name": "stdin",
     "output_type": "stream",
     "text": [
      "enter the number of miles:  7\n"
     ]
    },
    {
     "name": "stdout",
     "output_type": "stream",
     "text": [
      " 7.0 is qual to kilometer of 11.26538 \n"
     ]
    }
   ],
   "source": [
    "# Write a program to convert miles to Kilometer , user shoulb be able to give miles as input\n",
    "\n",
    "# your Answer\n",
    "\n",
    "def miles_to_Kilometer(miles):\n",
    "    return miles * 1.60934\n",
    "miles=float(input(\"enter the number of miles: \"))\n",
    "kilometer= miles_to_Kilometer(miles)\n",
    "print(f\" {miles} is qual to kilometer of {kilometer} \")\n",
    "\n",
    "\n",
    "\n",
    "\n",
    "\n",
    "\n"
   ]
  },
  {
   "cell_type": "code",
   "execution_count": 32,
   "metadata": {},
   "outputs": [
    {
     "name": "stdin",
     "output_type": "stream",
     "text": [
      "enter the number of pounds to convert to kg: 5\n"
     ]
    },
    {
     "name": "stdout",
     "output_type": "stream",
     "text": [
      "5  is equal to the kilogram of  2.265\n"
     ]
    }
   ],
   "source": [
    "# Write a program to convert pounds to Kilogram , user shoulb be able to give pounds as input\n",
    "\n",
    "# your Answer\n",
    "def convert_pounds_to_Kilogram(pounds):\n",
    "    return pounds*0.453\n",
    "pounds=int(input(\"enter the number of pounds to convert to kg:\" ))\n",
    "kilogram=convert_pounds_to_Kilogram(pounds)\n",
    "print( pounds, \" is equal to the kilogram of \", kilogram)\n",
    "\n",
    "\n",
    "\n",
    "\n",
    "\n"
   ]
  },
  {
   "cell_type": "code",
   "execution_count": 36,
   "metadata": {},
   "outputs": [
    {
     "name": "stdin",
     "output_type": "stream",
     "text": [
      "enter the principal amount :  6\n",
      "enter the number of months :  7\n",
      "enter the rate of interst :  8\n"
     ]
    },
    {
     "name": "stdout",
     "output_type": "stream",
     "text": [
      "The instrest amount for the principla amount of 6.0 and number of  months 7.0 is 336.0\n"
     ]
    }
   ],
   "source": [
    "# Write a program to calculate simple interest # all input shoulb be given by the user\n",
    "\n",
    "# your Answer\n",
    "\n",
    "def calculate_simple_intreset(p,t,r):\n",
    "    return p*t*r\n",
    "p=float(input(\"enter the principal amount : \"))\n",
    "t=float(input(\"enter the number of months : \"))\n",
    "r=float(input(\"enter the rate of interst : \"))\n",
    "intrest=calculate_simple_intreset(p,t,r)\n",
    "print( \"The instrest amount for the principla amount of\",p,\"and number of  months\",t,\"is\",intrest)\n",
    "\n",
    "        \n",
    "\n",
    "\n",
    "\n"
   ]
  },
  {
   "cell_type": "code",
   "execution_count": 39,
   "metadata": {},
   "outputs": [
    {
     "name": "stdin",
     "output_type": "stream",
     "text": [
      "enter radius of the circule: 5\n"
     ]
    },
    {
     "name": "stdout",
     "output_type": "stream",
     "text": [
      "The area of the circle is  78.53975\n"
     ]
    }
   ],
   "source": [
    "# Write a program to calculate area of circle\n",
    "\n",
    "# your Answer\n",
    "\n",
    "def calculate_area_of_circle(radius):\n",
    "    return 3.14159*radius*radius\n",
    "radius=float(input(\"enter radius of the circule:\"))\n",
    "area=calculate_area_of_circle(radius)\n",
    "print(\"The area of the circle is \", area)\n",
    "\n",
    "\n",
    "\n",
    "\n"
   ]
  },
  {
   "cell_type": "code",
   "execution_count": 41,
   "metadata": {},
   "outputs": [
    {
     "name": "stdin",
     "output_type": "stream",
     "text": [
      "enter circumference of the circule: 7\n"
     ]
    },
    {
     "name": "stdout",
     "output_type": "stream",
     "text": [
      "The circumference of the circle is  78.53975\n"
     ]
    }
   ],
   "source": [
    "# Write a program to calculate circumference of circle\n",
    "\n",
    "# your Answer\n",
    "\n",
    "def calculate_circumference_of_circle(circumference):\n",
    "    return 2*3.14159*circumference\n",
    "circumference=float(input(\"enter circumference of the circule:\"))\n",
    "circumference=calculate_circumference_of_circle(circumference)\n",
    "print(\"The circumference of the circle is \", area)\n",
    "\n",
    "\n",
    "\n",
    "\n"
   ]
  },
  {
   "cell_type": "code",
   "execution_count": 42,
   "metadata": {},
   "outputs": [
    {
     "name": "stdin",
     "output_type": "stream",
     "text": [
      "enter side of the sqare to calculate perimeter: 6\n"
     ]
    },
    {
     "name": "stdout",
     "output_type": "stream",
     "text": [
      "The perimeter of the give square is  24.0\n"
     ]
    }
   ],
   "source": [
    "# Write a program to calculate perimeter of square\n",
    "\n",
    "# your Answer\n",
    "def perimeter_of_square(side):\n",
    "    return 4*side\n",
    "side=float(input(\"enter side of the sqare to calculate perimeter:\"))\n",
    "side=perimeter_of_square(side)\n",
    "print(\"The perimeter of the give square is \",side) \n",
    "\n",
    "\n",
    "\n",
    "\n"
   ]
  },
  {
   "cell_type": "code",
   "execution_count": 44,
   "metadata": {},
   "outputs": [
    {
     "name": "stdin",
     "output_type": "stream",
     "text": [
      "enter the values of the square side to calculate area: 6.6\n"
     ]
    },
    {
     "name": "stdout",
     "output_type": "stream",
     "text": [
      "area of the given square is 43.559999999999995\n"
     ]
    }
   ],
   "source": [
    "# Write a program to calculate area of square\n",
    "\n",
    "# your Answer\n",
    "\n",
    "\n",
    "def area_of_the_square(side):\n",
    "    return side*side\n",
    "side=float(input(\"enter the values of the square side to calculate area:\"))\n",
    "area=area_of_the_square(side)\n",
    "print(\"area of the given square is\", area)\n",
    "\n",
    "\n",
    "\n",
    "\n",
    "\n"
   ]
  },
  {
   "cell_type": "code",
   "execution_count": 45,
   "metadata": {},
   "outputs": [
    {
     "name": "stdin",
     "output_type": "stream",
     "text": [
      "Enther the base of the triangle: 5\n",
      "Enter the hight of the triangle: 6\n"
     ]
    },
    {
     "name": "stdout",
     "output_type": "stream",
     "text": [
      "The area of the triangle is  15.0\n"
     ]
    }
   ],
   "source": [
    "# Write a program to area of traingle\n",
    "\n",
    "# your Answer\n",
    "\n",
    "def area_of_triangle(base,hight):\n",
    "    return 0.5*base*hight\n",
    "base=float(input(\"Enther the base of the triangle:\"))\n",
    "hight=float(input(\"Enter the hight of the triangle:\"))\n",
    "area=area_of_triangle(base,hight)\n",
    "print(\"The area of the triangle is \", area)"
   ]
  },
  {
   "cell_type": "code",
   "execution_count": null,
   "metadata": {},
   "outputs": [],
   "source": []
  }
 ],
 "metadata": {
  "kernelspec": {
   "display_name": "Python 3 (ipykernel)",
   "language": "python",
   "name": "python3"
  },
  "language_info": {
   "codemirror_mode": {
    "name": "ipython",
    "version": 3
   },
   "file_extension": ".py",
   "mimetype": "text/x-python",
   "name": "python",
   "nbconvert_exporter": "python",
   "pygments_lexer": "ipython3",
   "version": "3.13.5"
  }
 },
 "nbformat": 4,
 "nbformat_minor": 4
}
